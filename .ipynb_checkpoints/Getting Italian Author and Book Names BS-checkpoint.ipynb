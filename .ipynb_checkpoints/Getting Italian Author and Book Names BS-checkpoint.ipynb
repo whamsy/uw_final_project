{
 "cells": [
  {
   "cell_type": "code",
   "execution_count": 16,
   "metadata": {},
   "outputs": [],
   "source": [
    "from bs4 import BeautifulSoup"
   ]
  },
  {
   "cell_type": "code",
   "execution_count": 17,
   "metadata": {},
   "outputs": [],
   "source": [
    "import requests"
   ]
  },
  {
   "cell_type": "code",
   "execution_count": 18,
   "metadata": {},
   "outputs": [],
   "source": [
    "main5 = 'http://www.bibliotecaitaliana.it/indice/visualizza_scheda/bibit00000'\n",
    "main4 = 'http://www.bibliotecaitaliana.it/indice/visualizza_scheda/bibit0000'\n",
    "main3 = 'http://www.bibliotecaitaliana.it/indice/visualizza_scheda/bibit000'\n",
    "main2 = 'http://www.bibliotecaitaliana.it/indice/visualizza_scheda/bibit00'"
   ]
  },
  {
   "cell_type": "code",
   "execution_count": 19,
   "metadata": {},
   "outputs": [],
   "source": [
    "list1 = list(range(0,100))"
   ]
  },
  {
   "cell_type": "code",
   "execution_count": 20,
   "metadata": {},
   "outputs": [],
   "source": [
    "#len(str(list1[100]))"
   ]
  },
  {
   "cell_type": "code",
   "execution_count": 21,
   "metadata": {},
   "outputs": [],
   "source": [
    "links = []"
   ]
  },
  {
   "cell_type": "code",
   "execution_count": 22,
   "metadata": {},
   "outputs": [],
   "source": [
    "for i in list1:\n",
    "    if (len(str(i))) == 1:\n",
    "        links.append(str(main5+str(i)))\n",
    "    elif (len(str(i))) == 2:\n",
    "        links.append(str(main4+str(i)))\n",
    "    elif (len(str(i))) == 3:\n",
    "        links.append(str(main3+str(i)))\n",
    "    elif (len(str(i))) == 4:\n",
    "        links.append(str(main2+str(i)))"
   ]
  },
  {
   "cell_type": "code",
   "execution_count": 23,
   "metadata": {},
   "outputs": [],
   "source": [
    "all_requests = []"
   ]
  },
  {
   "cell_type": "code",
   "execution_count": 24,
   "metadata": {},
   "outputs": [],
   "source": [
    "from tqdm import tqdm"
   ]
  },
  {
   "cell_type": "code",
   "execution_count": 25,
   "metadata": {},
   "outputs": [
    {
     "name": "stderr",
     "output_type": "stream",
     "text": [
      "\n",
      "  0%|          | 0/100 [00:00<?, ?it/s]\u001b[A\n",
      "  1%|          | 1/100 [00:01<01:48,  1.09s/it]\u001b[A\n",
      "  2%|▏         | 2/100 [00:02<01:44,  1.07s/it]\u001b[A\n",
      "  3%|▎         | 3/100 [00:03<01:48,  1.12s/it]\u001b[A\n",
      "  4%|▍         | 4/100 [00:04<01:50,  1.16s/it]\u001b[A\n",
      "  5%|▌         | 5/100 [00:05<01:50,  1.16s/it]\u001b[A\n",
      "  6%|▌         | 6/100 [00:07<01:55,  1.23s/it]\u001b[A/anaconda3/lib/python3.6/site-packages/tqdm/_monitor.py:89: TqdmSynchronisationWarning: Set changed size during iteration (see https://github.com/tqdm/tqdm/issues/481)\n",
      "  TqdmSynchronisationWarning)\n",
      "\n",
      "  7%|▋         | 7/100 [00:08<01:54,  1.23s/it]\u001b[A\n",
      "  8%|▊         | 8/100 [00:09<01:54,  1.24s/it]\u001b[A\n",
      "  9%|▉         | 9/100 [00:11<01:54,  1.26s/it]\u001b[A\n",
      " 10%|█         | 10/100 [00:12<01:52,  1.25s/it]\u001b[A\n",
      " 11%|█         | 11/100 [00:13<01:50,  1.24s/it]\u001b[A\n",
      " 12%|█▏        | 12/100 [00:15<01:50,  1.25s/it]\u001b[A\n",
      " 13%|█▎        | 13/100 [00:16<01:48,  1.25s/it]\u001b[A\n",
      " 14%|█▍        | 14/100 [00:17<01:46,  1.24s/it]\u001b[A\n",
      " 15%|█▌        | 15/100 [00:18<01:46,  1.25s/it]\u001b[A\n",
      " 16%|█▌        | 16/100 [00:20<01:46,  1.26s/it]\u001b[A\n",
      " 17%|█▋        | 17/100 [00:21<01:43,  1.25s/it]\u001b[A\n",
      " 18%|█▊        | 18/100 [00:22<01:42,  1.24s/it]\u001b[A\n",
      " 19%|█▉        | 19/100 [00:23<01:40,  1.24s/it]\u001b[A\n",
      " 20%|██        | 20/100 [00:24<01:39,  1.24s/it]\u001b[A\n",
      " 21%|██        | 21/100 [00:26<01:38,  1.25s/it]\u001b[A\n",
      " 22%|██▏       | 22/100 [00:27<01:37,  1.26s/it]\u001b[A\n",
      " 23%|██▎       | 23/100 [00:29<01:37,  1.27s/it]\u001b[A\n",
      " 24%|██▍       | 24/100 [00:30<01:36,  1.27s/it]\u001b[A\n",
      " 25%|██▌       | 25/100 [00:31<01:34,  1.27s/it]\u001b[A\n",
      " 26%|██▌       | 26/100 [00:32<01:33,  1.26s/it]\u001b[A\n",
      " 27%|██▋       | 27/100 [00:34<01:32,  1.27s/it]\u001b[A\n",
      " 28%|██▊       | 28/100 [00:35<01:31,  1.27s/it]\u001b[A\n",
      " 29%|██▉       | 29/100 [00:37<01:30,  1.28s/it]\u001b[A\n",
      " 30%|███       | 30/100 [00:38<01:29,  1.28s/it]\u001b[A\n",
      " 31%|███       | 31/100 [00:39<01:28,  1.28s/it]\u001b[A\n",
      " 32%|███▏      | 32/100 [00:41<01:28,  1.30s/it]\u001b[A\n",
      " 33%|███▎      | 33/100 [00:42<01:26,  1.29s/it]\u001b[A\n",
      " 34%|███▍      | 34/100 [00:44<01:25,  1.30s/it]\u001b[A\n",
      " 35%|███▌      | 35/100 [00:45<01:24,  1.30s/it]\u001b[A\n",
      " 36%|███▌      | 36/100 [00:46<01:23,  1.31s/it]\u001b[A\n",
      " 37%|███▋      | 37/100 [00:48<01:22,  1.31s/it]\u001b[A\n",
      " 38%|███▊      | 38/100 [00:49<01:21,  1.31s/it]\u001b[A\n",
      " 39%|███▉      | 39/100 [00:51<01:20,  1.31s/it]\u001b[A\n",
      " 40%|████      | 40/100 [00:52<01:18,  1.31s/it]\u001b[A\n",
      " 41%|████      | 41/100 [00:53<01:17,  1.31s/it]\u001b[A\n",
      " 42%|████▏     | 42/100 [00:54<01:15,  1.31s/it]\u001b[A\n",
      " 43%|████▎     | 43/100 [00:56<01:14,  1.30s/it]\u001b[A\n",
      " 44%|████▍     | 44/100 [00:57<01:12,  1.30s/it]\u001b[A\n",
      " 45%|████▌     | 45/100 [00:58<01:11,  1.30s/it]\u001b[A\n",
      " 46%|████▌     | 46/100 [00:59<01:10,  1.30s/it]\u001b[A\n",
      " 47%|████▋     | 47/100 [01:01<01:09,  1.31s/it]\u001b[A\n",
      " 48%|████▊     | 48/100 [01:02<01:08,  1.31s/it]\u001b[A\n",
      " 49%|████▉     | 49/100 [01:04<01:07,  1.31s/it]\u001b[A\n",
      " 50%|█████     | 50/100 [01:05<01:05,  1.31s/it]\u001b[A\n",
      " 51%|█████     | 51/100 [01:06<01:04,  1.31s/it]\u001b[A\n",
      " 52%|█████▏    | 52/100 [01:08<01:02,  1.31s/it]\u001b[A\n",
      " 53%|█████▎    | 53/100 [01:09<01:01,  1.31s/it]\u001b[A\n",
      " 54%|█████▍    | 54/100 [01:10<01:00,  1.31s/it]\u001b[A\n",
      " 55%|█████▌    | 55/100 [01:11<00:58,  1.30s/it]\u001b[A\n",
      " 56%|█████▌    | 56/100 [01:13<00:57,  1.31s/it]\u001b[A\n",
      " 57%|█████▋    | 57/100 [01:14<00:56,  1.30s/it]\u001b[A\n",
      " 58%|█████▊    | 58/100 [01:15<00:54,  1.30s/it]\u001b[A\n",
      " 59%|█████▉    | 59/100 [01:17<00:53,  1.31s/it]\u001b[A\n",
      " 60%|██████    | 60/100 [01:18<00:52,  1.31s/it]\u001b[A\n",
      " 61%|██████    | 61/100 [01:19<00:51,  1.31s/it]\u001b[A\n",
      " 62%|██████▏   | 62/100 [01:21<00:49,  1.31s/it]\u001b[A\n",
      " 63%|██████▎   | 63/100 [01:22<00:48,  1.31s/it]\u001b[A\n",
      " 64%|██████▍   | 64/100 [01:23<00:46,  1.30s/it]\u001b[A\n",
      " 65%|██████▌   | 65/100 [01:24<00:45,  1.30s/it]\u001b[A\n",
      " 66%|██████▌   | 66/100 [01:25<00:44,  1.30s/it]\u001b[A\n",
      " 67%|██████▋   | 67/100 [01:27<00:42,  1.30s/it]\u001b[A\n",
      " 68%|██████▊   | 68/100 [01:28<00:41,  1.29s/it]\u001b[A\n",
      " 69%|██████▉   | 69/100 [01:29<00:40,  1.29s/it]\u001b[A\n",
      " 70%|███████   | 70/100 [01:30<00:38,  1.29s/it]\u001b[A\n",
      " 71%|███████   | 71/100 [01:31<00:37,  1.29s/it]\u001b[A\n",
      " 72%|███████▏  | 72/100 [01:33<00:36,  1.29s/it]\u001b[A\n",
      " 73%|███████▎  | 73/100 [01:34<00:34,  1.29s/it]\u001b[A\n",
      " 74%|███████▍  | 74/100 [01:35<00:33,  1.29s/it]\u001b[A\n",
      " 75%|███████▌  | 75/100 [01:36<00:32,  1.29s/it]\u001b[A\n",
      " 76%|███████▌  | 76/100 [01:37<00:30,  1.29s/it]\u001b[A\n",
      " 77%|███████▋  | 77/100 [01:38<00:29,  1.28s/it]\u001b[A\n",
      " 78%|███████▊  | 78/100 [01:40<00:28,  1.29s/it]\u001b[A\n",
      " 79%|███████▉  | 79/100 [01:41<00:26,  1.29s/it]\u001b[A\n",
      " 80%|████████  | 80/100 [01:42<00:25,  1.28s/it]\u001b[A\n",
      " 81%|████████  | 81/100 [01:44<00:24,  1.29s/it]\u001b[A\n",
      " 82%|████████▏ | 82/100 [01:45<00:23,  1.29s/it]\u001b[A\n",
      " 83%|████████▎ | 83/100 [01:47<00:22,  1.30s/it]\u001b[A\n",
      " 84%|████████▍ | 84/100 [01:48<00:20,  1.30s/it]\u001b[A\n",
      " 85%|████████▌ | 85/100 [01:50<00:19,  1.30s/it]\u001b[A\n",
      " 86%|████████▌ | 86/100 [01:51<00:18,  1.29s/it]\u001b[A\n",
      " 87%|████████▋ | 87/100 [01:52<00:16,  1.29s/it]\u001b[A\n",
      " 88%|████████▊ | 88/100 [01:53<00:15,  1.29s/it]\u001b[A\n",
      " 89%|████████▉ | 89/100 [01:54<00:14,  1.29s/it]\u001b[A\n",
      " 90%|█████████ | 90/100 [01:56<00:12,  1.30s/it]\u001b[A\n",
      " 91%|█████████ | 91/100 [01:58<00:11,  1.30s/it]\u001b[A\n",
      " 92%|█████████▏| 92/100 [01:59<00:10,  1.30s/it]\u001b[A\n",
      " 93%|█████████▎| 93/100 [02:01<00:09,  1.30s/it]\u001b[A\n",
      " 94%|█████████▍| 94/100 [02:02<00:07,  1.30s/it]\u001b[A\n",
      " 95%|█████████▌| 95/100 [02:03<00:06,  1.30s/it]\u001b[A\n",
      " 96%|█████████▌| 96/100 [02:05<00:05,  1.31s/it]\u001b[A\n",
      " 97%|█████████▋| 97/100 [02:06<00:03,  1.30s/it]\u001b[A\n",
      " 98%|█████████▊| 98/100 [02:07<00:02,  1.30s/it]\u001b[A\n",
      " 99%|█████████▉| 99/100 [02:08<00:01,  1.30s/it]\u001b[A\n",
      "100%|██████████| 100/100 [02:10<00:00,  1.30s/it]\u001b[A\n",
      "\u001b[A"
     ]
    }
   ],
   "source": [
    "for link in tqdm(links):\n",
    "    all_requests.append(requests.get(link))"
   ]
  },
  {
   "cell_type": "code",
   "execution_count": 26,
   "metadata": {},
   "outputs": [],
   "source": [
    "all_requests2 = all_requests"
   ]
  },
  {
   "cell_type": "code",
   "execution_count": 27,
   "metadata": {},
   "outputs": [
    {
     "data": {
      "text/plain": [
       "100"
      ]
     },
     "execution_count": 27,
     "metadata": {},
     "output_type": "execute_result"
    }
   ],
   "source": [
    "len(all_requests2)"
   ]
  },
  {
   "cell_type": "code",
   "execution_count": 28,
   "metadata": {},
   "outputs": [],
   "source": [
    "valid_pages = []"
   ]
  },
  {
   "cell_type": "code",
   "execution_count": 29,
   "metadata": {},
   "outputs": [],
   "source": [
    "for r in all_requests2:\n",
    "    if r.status_code == 200:\n",
    "        valid_pages.append(r)"
   ]
  },
  {
   "cell_type": "code",
   "execution_count": 30,
   "metadata": {},
   "outputs": [],
   "source": [
    "soups = []"
   ]
  },
  {
   "cell_type": "code",
   "execution_count": 31,
   "metadata": {},
   "outputs": [],
   "source": [
    "for page in valid_pages:\n",
    "    soup = BeautifulSoup(page.content,'html.parser')\n",
    "    soups.append(soup)"
   ]
  },
  {
   "cell_type": "code",
   "execution_count": 32,
   "metadata": {},
   "outputs": [],
   "source": [
    "authors = []\n",
    "titles = []"
   ]
  },
  {
   "cell_type": "code",
   "execution_count": 33,
   "metadata": {},
   "outputs": [],
   "source": [
    "for soup in soups:\n",
    "    text_only = [text for text in soup.stripped_strings]\n",
    "    try:\n",
    "        author_index = text_only.index('Autore:')\n",
    "    except:\n",
    "        pass\n",
    "    authors.append(text_only[author_index+1])\n",
    "    try:\n",
    "        title_index = text_only.index('Titolo:')\n",
    "    except:\n",
    "        pass\n",
    "    titles.append(text_only[title_index+1])"
   ]
  },
  {
   "cell_type": "code",
   "execution_count": 34,
   "metadata": {},
   "outputs": [
    {
     "data": {
      "text/plain": [
       "98"
      ]
     },
     "execution_count": 34,
     "metadata": {},
     "output_type": "execute_result"
    }
   ],
   "source": [
    "len(authors)"
   ]
  },
  {
   "cell_type": "code",
   "execution_count": 35,
   "metadata": {},
   "outputs": [
    {
     "data": {
      "text/plain": [
       "98"
      ]
     },
     "execution_count": 35,
     "metadata": {},
     "output_type": "execute_result"
    }
   ],
   "source": [
    "len(titles)"
   ]
  },
  {
   "cell_type": "code",
   "execution_count": 36,
   "metadata": {},
   "outputs": [
    {
     "data": {
      "text/plain": [
       "['Tragedia di Antigone',\n",
       " 'Rime',\n",
       " 'Cena familiaris',\n",
       " 'De commodis litterarum atque incommodis',\n",
       " 'De pictura [Redazione volgare]',\n",
       " 'Epistola consolatoria',\n",
       " 'De pictura [Redazione latina]',\n",
       " 'Naufragus',\n",
       " 'Sentenze pitagoriche',\n",
       " 'I libri della famiglia',\n",
       " 'Momus',\n",
       " 'Vita',\n",
       " 'Antigone',\n",
       " 'Agide',\n",
       " 'Bruto primo',\n",
       " 'Bruto secondo',\n",
       " 'Agamennone',\n",
       " 'De vulgari eloquentia',\n",
       " 'Commedia',\n",
       " 'Il dedalione o ver del poeta',\n",
       " 'Cronica',\n",
       " \"Lettere sull'arte\",\n",
       " 'I suppositi',\n",
       " 'Rime',\n",
       " 'Satire',\n",
       " 'Cinque canti',\n",
       " 'Cassaria',\n",
       " 'Iscrizioni obituarie della cattedrale',\n",
       " 'Liber Maiolichinus',\n",
       " 'Novella del grasso legnaiuolo',\n",
       " 'Della Eloquenza',\n",
       " 'Dei delitti e delle pene',\n",
       " 'Sonetti',\n",
       " 'Prose della volgar lingua',\n",
       " 'Asolani',\n",
       " 'Poesie politiche e romanze',\n",
       " \"Breve considerazione intorno al componimento de la comedia de' nostri tempi\",\n",
       " 'Rime',\n",
       " 'Corbaccio',\n",
       " 'Rime',\n",
       " 'Teseida',\n",
       " 'Filocolo',\n",
       " 'Elegia di Madonna Fiammetta',\n",
       " 'Caccia di Diana',\n",
       " 'Amorosa visione',\n",
       " 'Filostrato',\n",
       " 'Ninfale fiesolano',\n",
       " 'Amorum libri',\n",
       " 'Orlando innamorato',\n",
       " 'Candelaio',\n",
       " 'Prologhi',\n",
       " 'Caio Gracco',\n",
       " 'Poesie',\n",
       " 'Aminta (ms. Campori 491)',\n",
       " 'Novellino',\n",
       " 'Relazione di Marino Cavalli (1551)',\n",
       " 'Re Torrismondo',\n",
       " \"Operette morali d'Isocrate\",\n",
       " 'Polissena',\n",
       " 'Discorsi sopra gli uomini illustri di Plutarco',\n",
       " 'Expositio Herculis Furentis',\n",
       " 'Così fan tutte',\n",
       " \"Relazione dell'ambasceria straordinaria in Francia (1643)\",\n",
       " 'Studii di bibliografia analitica',\n",
       " 'Rime',\n",
       " 'Notizie istoriche e geografiche sulla città e chiesa arcivescovile di Damiata',\n",
       " 'Carteggio',\n",
       " 'Rime',\n",
       " 'Rocta facta per Duca die ferrara ala bastia',\n",
       " 'Endimione',\n",
       " 'Poesie',\n",
       " 'Frammenti autobiografici',\n",
       " \"Relazione d'Austria\",\n",
       " \"L'Archivio della Letteratura Italiana e la Biblioteca Nazionale Centrale di Firenze\",\n",
       " 'Cronica di Ferrara, volgarizzamento della Cronica Parva di Riccobaldo',\n",
       " 'Relazione di Francia',\n",
       " 'Orazioni',\n",
       " 'Chrysis',\n",
       " \"La rappresentazione di Moisè e Faraone re d'Egitto\",\n",
       " 'Le avventure di Saffo',\n",
       " \"Alcuni documenti che testimoniano i rapporti tra Pisa e l'Oriente tra la fine del XIII e l'inizio del XIV secolo\",\n",
       " 'Poesie',\n",
       " 'Poesie',\n",
       " 'Rime',\n",
       " 'Relazione di Francia di Alvise Mocenigo',\n",
       " 'Discorso sopra la Batracomiomachia',\n",
       " 'Senilità',\n",
       " 'Saggio sopra gli errori popolari degli antichi',\n",
       " 'La città felice',\n",
       " 'Lettere  di un prete modernista',\n",
       " 'De dilectione regnantium',\n",
       " 'Vita dei campi',\n",
       " \"Expositione sopra l'«Inferno» di Dante Alligieri\",\n",
       " 'Relazione di Spagna (1559)',\n",
       " 'Dialogo del reggimento di Firenze',\n",
       " 'An vulgus et literati eodem modo per Terentii Tullique tempora Romae locuti sint',\n",
       " 'Epistolario',\n",
       " 'Rime']"
      ]
     },
     "execution_count": 36,
     "metadata": {},
     "output_type": "execute_result"
    }
   ],
   "source": [
    "titles"
   ]
  },
  {
   "cell_type": "code",
   "execution_count": 37,
   "metadata": {},
   "outputs": [
    {
     "ename": "NameError",
     "evalue": "name 'data' is not defined",
     "output_type": "error",
     "traceback": [
      "\u001b[0;31m---------------------------------------------------------------------------\u001b[0m",
      "\u001b[0;31mNameError\u001b[0m                                 Traceback (most recent call last)",
      "\u001b[0;32m<ipython-input-37-6d1f9e5966dc>\u001b[0m in \u001b[0;36m<module>\u001b[0;34m()\u001b[0m\n\u001b[0;32m----> 1\u001b[0;31m \u001b[0msoup\u001b[0m \u001b[0;34m=\u001b[0m \u001b[0mBeautifulSoup\u001b[0m\u001b[0;34m(\u001b[0m\u001b[0mdata\u001b[0m\u001b[0;34m.\u001b[0m\u001b[0mtext\u001b[0m\u001b[0;34m,\u001b[0m\u001b[0;34m'html.parser'\u001b[0m\u001b[0;34m)\u001b[0m\u001b[0;34m\u001b[0m\u001b[0m\n\u001b[0m",
      "\u001b[0;31mNameError\u001b[0m: name 'data' is not defined"
     ]
    },
    {
     "name": "stderr",
     "output_type": "stream",
     "text": [
      "/anaconda3/lib/python3.6/site-packages/tqdm/_monitor.py:89: TqdmSynchronisationWarning: Set changed size during iteration (see https://github.com/tqdm/tqdm/issues/481)\n",
      "  TqdmSynchronisationWarning)\n"
     ]
    }
   ],
   "source": [
    "#soup = BeautifulSoup(data.text,'html.parser')\n",
    "# movie_containers = soup.find_all('div', class_ = 'books')\n",
    "# print(type(movie_containers))\n",
    "# print(len(movie_containers))"
   ]
  },
  {
   "cell_type": "code",
   "execution_count": 69,
   "metadata": {},
   "outputs": [
    {
     "data": {
      "text/plain": [
       "''"
      ]
     },
     "execution_count": 69,
     "metadata": {},
     "output_type": "execute_result"
    },
    {
     "name": "stderr",
     "output_type": "stream",
     "text": [
      "/anaconda3/lib/python3.6/site-packages/tqdm/_monitor.py:89: TqdmSynchronisationWarning: Set changed size during iteration (see https://github.com/tqdm/tqdm/issues/481)\n",
      "  TqdmSynchronisationWarning)\n"
     ]
    }
   ],
   "source": [
    "from fpdf import FPDF\n",
    "\n",
    "#pdf = FPDF()\n",
    "pdf = FPDF('P', 'mm', 'A4')\n",
    "pdf.add_page()\n",
    "pdf.set_font('Arial', 'B', 50)\n",
    "#pdf.cell(40, 10, 'Hello World!')\n",
    "\n",
    "#pdf.cell(0, 0, 'Powered by FPDF.', align = 'C')\n",
    "\n",
    "pdf.cell(200, 10, txt=\"Welcome to Python!\", ln=10, align=\"C\")\n",
    "pdf.cell(200,60,'Powered by FPDF',0,1,'C')\n",
    "\n",
    "pdf.output('tuto1.pdf', 'F')"
   ]
  },
  {
   "cell_type": "code",
   "execution_count": 75,
   "metadata": {},
   "outputs": [
    {
     "name": "stderr",
     "output_type": "stream",
     "text": [
      "/anaconda3/lib/python3.6/site-packages/tqdm/_monitor.py:89: TqdmSynchronisationWarning: Set changed size during iteration (see https://github.com/tqdm/tqdm/issues/481)\n",
      "  TqdmSynchronisationWarning)\n"
     ]
    }
   ],
   "source": [
    "# # Be sure to import canvas from reportlab.\n",
    "# import reportlab\n",
    "# from reportlab.pdfgen import canvas\n",
    "\n",
    "# can = canvas.Canvas(\"hello.pdf\")\n",
    "# # When working with the PDF canvas, use the following.\n",
    "# can.drawString(10, 100, 'This text will be left to right')\n",
    "# can.saveState()\n",
    "# can.rotate(90)\n",
    "# can.drawString(10, 10, 'This text will be rotated 90 degrees')\n",
    "# can.restoreState()\n",
    "# can.save()"
   ]
  },
  {
   "cell_type": "code",
   "execution_count": 76,
   "metadata": {},
   "outputs": [
    {
     "data": {
      "text/plain": [
       "''"
      ]
     },
     "execution_count": 76,
     "metadata": {},
     "output_type": "execute_result"
    },
    {
     "name": "stderr",
     "output_type": "stream",
     "text": [
      "/anaconda3/lib/python3.6/site-packages/tqdm/_monitor.py:89: TqdmSynchronisationWarning: Set changed size during iteration (see https://github.com/tqdm/tqdm/issues/481)\n",
      "  TqdmSynchronisationWarning)\n"
     ]
    }
   ],
   "source": [
    "# Import FPDF class\n",
    "from fpdf import FPDF\n",
    " \n",
    "# Create instance of FPDF class\n",
    "# Letter size paper, use inches as unit of measure\n",
    "pdf=FPDF(format='letter', unit='in')\n",
    " \n",
    "# Add new page. Without this you cannot create the document.\n",
    "pdf.add_page()\n",
    " \n",
    "# Remember to always put one of these at least once.\n",
    "pdf.set_font('Times','',10.0) \n",
    " \n",
    "# Effective page width, or just epw\n",
    "epw = pdf.w - 2*pdf.l_margin\n",
    " \n",
    "# Set column width to 1/4 of effective page width to distribute content \n",
    "# evenly across table and page\n",
    "col_width = epw/4\n",
    " \n",
    "# Since we do not need to draw lines anymore, there is no need to separate\n",
    "# headers from data matrix.\n",
    " \n",
    "data = [['First name','Last name','Age','City'],\n",
    "['Jules','Smith',34,'San Juan'],\n",
    "['Mary','Ramos',45,'Orlando'],[\n",
    "'Carlson','Banks',19,'Los Angeles']\n",
    "]\n",
    " \n",
    "# Document title centered, 'B'old, 14 pt\n",
    "pdf.set_font('Times','B',14.0) \n",
    "pdf.cell(epw, 0.0, 'Demographic data', align='C')\n",
    "pdf.set_font('Times','',10.0) \n",
    "pdf.ln(0.5)\n",
    " \n",
    "# Text height is the same as current font size\n",
    "th = pdf.font_size\n",
    " \n",
    "for row in data:\n",
    "    for datum in row:\n",
    "        # Enter data in colums\n",
    "        # Notice the use of the function str to coerce any input to the \n",
    "        # string type. This is needed\n",
    "        # since pyFPDF expects a string, not a number.\n",
    "        pdf.cell(col_width, th, str(datum), border=1)\n",
    " \n",
    "    pdf.ln(th)\n",
    " \n",
    "# Line break equivalent to 4 lines\n",
    "pdf.ln(4*th)\n",
    " \n",
    "pdf.set_font('Times','B',14.0) \n",
    "pdf.cell(epw, 0.0, 'With more padding', align='C')\n",
    "pdf.set_font('Times','',10.0) \n",
    "pdf.ln(0.5)\n",
    " \n",
    "# Here we add more padding by passing 2*th as height\n",
    "for row in data:\n",
    "    for datum in row:\n",
    "        # Enter data in colums\n",
    "        pdf.cell(col_width, 2*th, str(datum), border=1)\n",
    " \n",
    "    pdf.ln(2*th)\n",
    " \n",
    "pdf.output('table-using-cell-borders.pdf','F')"
   ]
  },
  {
   "cell_type": "code",
   "execution_count": null,
   "metadata": {},
   "outputs": [],
   "source": []
  }
 ],
 "metadata": {
  "kernelspec": {
   "display_name": "Python 3",
   "language": "python",
   "name": "python3"
  },
  "language_info": {
   "codemirror_mode": {
    "name": "ipython",
    "version": 3
   },
   "file_extension": ".py",
   "mimetype": "text/x-python",
   "name": "python",
   "nbconvert_exporter": "python",
   "pygments_lexer": "ipython3",
   "version": "3.6.4"
  }
 },
 "nbformat": 4,
 "nbformat_minor": 2
}
